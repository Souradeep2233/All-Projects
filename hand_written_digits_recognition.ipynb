{
 "cells": [
  {
   "cell_type": "code",
   "execution_count": 1,
   "metadata": {},
   "outputs": [],
   "source": [
    "import numpy as np , matplotlib.pyplot as plt\n",
    "import tensorflow as tf\n",
    "from tensorflow import keras \n",
    "from keras.datasets import mnist"
   ]
  },
  {
   "cell_type": "code",
   "execution_count": 2,
   "metadata": {},
   "outputs": [
    {
     "name": "stdout",
     "output_type": "stream",
     "text": [
      "[name: \"/device:CPU:0\"\n",
      "device_type: \"CPU\"\n",
      "memory_limit: 268435456\n",
      "locality {\n",
      "}\n",
      "incarnation: 18378743324381239506\n",
      "xla_global_id: -1\n",
      "]\n"
     ]
    }
   ],
   "source": [
    "from tensorflow.python.client import device_lib\n",
    "print(device_lib.list_local_devices())"
   ]
  },
  {
   "cell_type": "code",
   "execution_count": 3,
   "metadata": {},
   "outputs": [],
   "source": [
    "(x_train,y_train),(x_test,y_test)=mnist.load_data()"
   ]
  },
  {
   "cell_type": "code",
   "execution_count": 4,
   "metadata": {},
   "outputs": [
    {
     "data": {
      "text/plain": [
       "<matplotlib.image.AxesImage at 0x15db09d5180>"
      ]
     },
     "execution_count": 4,
     "metadata": {},
     "output_type": "execute_result"
    },
    {
     "data": {
      "image/png": "[encoded data removed]",
      "text/plain": [
       "<Figure size 432x288 with 1 Axes>"
      ]
     },
     "metadata": {
      "needs_background": "light"
     },
     "output_type": "display_data"
    }
   ],
   "source": [
    "plt.imshow(x_train[2],'binary')"
   ]
  },
  {
   "cell_type": "code",
   "execution_count": 5,
   "metadata": {},
   "outputs": [
    {
     "data": {
      "text/plain": [
       "(28, 28)"
      ]
     },
     "execution_count": 5,
     "metadata": {},
     "output_type": "execute_result"
    }
   ],
   "source": [
    "x_train[2].shape"
   ]
  },
  {
   "cell_type": "code",
   "execution_count": 6,
   "metadata": {},
   "outputs": [
    {
     "data": {
      "text/plain": [
       "((60000, 28, 28), (10000, 28, 28), (60000,), (10000,))"
      ]
     },
     "execution_count": 6,
     "metadata": {},
     "output_type": "execute_result"
    }
   ],
   "source": [
    "x_train.shape,x_test.shape,y_train.shape,y_test.shape"
   ]
  },
  {
   "cell_type": "code",
   "execution_count": 7,
   "metadata": {},
   "outputs": [
    {
     "data": {
      "text/plain": [
       "(60000, 28, 28)"
      ]
     },
     "execution_count": 7,
     "metadata": {},
     "output_type": "execute_result"
    }
   ],
   "source": [
    "#Normalized the images in [0,1]\n",
    "x_train=x_train.astype(np.float32)/255\n",
    "x_test=x_test.astype(np.float32)/255\n",
    "x_train.shape"
   ]
  },
  {
   "cell_type": "code",
   "execution_count": 8,
   "metadata": {},
   "outputs": [
    {
     "data": {
      "text/plain": [
       "(60000, 28, 28, 1)"
      ]
     },
     "execution_count": 8,
     "metadata": {},
     "output_type": "execute_result"
    }
   ],
   "source": [
    "g=x_train\n",
    "g=np.expand_dims(g,-1)\n",
    "# g.shape\n",
    "x_train=g\n",
    "x_train.shape\n"
   ]
  },
  {
   "cell_type": "code",
   "execution_count": 9,
   "metadata": {},
   "outputs": [
    {
     "data": {
      "text/plain": [
       "(10000, 28, 28, 1)"
      ]
     },
     "execution_count": 9,
     "metadata": {},
     "output_type": "execute_result"
    }
   ],
   "source": [
    "h=x_test\n",
    "h=np.expand_dims(h,-1)\n",
    "# h.shape\n",
    "x_test=h\n",
    "x_test.shape"
   ]
  },
  {
   "cell_type": "code",
   "execution_count": 10,
   "metadata": {},
   "outputs": [
    {
     "data": {
      "text/plain": [
       "(array([5, 0, 4, ..., 5, 6, 8], dtype=uint8),\n",
       " array([7, 2, 1, ..., 4, 5, 6], dtype=uint8))"
      ]
     },
     "execution_count": 10,
     "metadata": {},
     "output_type": "execute_result"
    }
   ],
   "source": [
    "y_train,y_test"
   ]
  },
  {
   "cell_type": "code",
   "execution_count": 11,
   "metadata": {},
   "outputs": [
    {
     "data": {
      "text/plain": [
       "(array([0., 0., 0., 0., 0., 1., 0., 0., 0., 0.], dtype=float32),\n",
       " array([0., 0., 0., 0., 1., 0., 0., 0., 0., 0.], dtype=float32))"
      ]
     },
     "execution_count": 11,
     "metadata": {},
     "output_type": "execute_result"
    }
   ],
   "source": [
    "l=keras.utils.to_categorical(y_train)\n",
    "l[0],l[2]"
   ]
  },
  {
   "cell_type": "markdown",
   "metadata": {},
   "source": [
    "In the previous step , we converted the y_train to categorical divisions....mark the position of 1 \n",
    "signifies that number"
   ]
  },
  {
   "cell_type": "code",
   "execution_count": 12,
   "metadata": {},
   "outputs": [],
   "source": [
    "y_train=keras.utils.to_categorical(y_train)\n",
    "y_test=keras.utils.to_categorical(y_test)"
   ]
  },
  {
   "cell_type": "code",
   "execution_count": 13,
   "metadata": {},
   "outputs": [],
   "source": [
    "from keras.models import Sequential\n",
    "from keras.layers import Dense,Conv2D,MaxPool2D,Dropout,Flatten"
   ]
  },
  {
   "cell_type": "code",
   "execution_count": 14,
   "metadata": {},
   "outputs": [],
   "source": [
    "model=Sequential()\n",
    "model.add(Conv2D(32, kernel_size=(3, 3),activation='relu',input_shape=(28,28,1)))\n",
    "model.add(MaxPool2D(2, 2))\n",
    "model.add(Conv2D(64, kernel_size=(3, 3),activation='relu',input_shape=(28,28,1)))\n",
    "model.add(MaxPool2D(2, 2))\n",
    "model.add(Flatten())\n",
    "model.add(Dropout(0.25))\n",
    "model.add(Dense(10, activation='softmax'))\n",
    "\n",
    "model.compile(optimizer='adam',loss=keras.losses.categorical_crossentropy,metrics=['accuracy'])"
   ]
  },
  {
   "cell_type": "code",
   "execution_count": 15,
   "metadata": {},
   "outputs": [
    {
     "name": "stdout",
     "output_type": "stream",
     "text": [
      "Model: \"sequential\"\n",
      "_________________________________________________________________\n",
      " Layer (type)                Output Shape              Param #   \n",
      "=================================================================\n",
      " conv2d (Conv2D)             (None, 26, 26, 32)        320       \n",
      "                                                                 \n",
      " max_pooling2d (MaxPooling2D  (None, 13, 13, 32)       0         \n",
      " )                                                               \n",
      "                                                                 \n",
      " conv2d_1 (Conv2D)           (None, 11, 11, 64)        18496     \n",
      "                                                                 \n",
      " max_pooling2d_1 (MaxPooling  (None, 5, 5, 64)         0         \n",
      " 2D)                                                             \n",
      "                                                                 \n",
      " flatten (Flatten)           (None, 1600)              0         \n",
      "                                                                 \n",
      " dropout (Dropout)           (None, 1600)              0         \n",
      "                                                                 \n",
      " dense (Dense)               (None, 10)                16010     \n",
      "                                                                 \n",
      "=================================================================\n",
      "Total params: 34,826\n",
      "Trainable params: 34,826\n",
      "Non-trainable params: 0\n",
      "_________________________________________________________________\n"
     ]
    }
   ],
   "source": [
    "model.summary()"
   ]
  },
  {
   "cell_type": "code",
   "execution_count": 16,
   "metadata": {},
   "outputs": [],
   "source": [
    "from keras .callbacks import EarlyStopping,ModelCheckpoint\n",
    "es = EarlyStopping(monitor='val_accuracy', patience =4,verbose=1, min_delta=.01)\n",
    "mc=ModelCheckpoint(\"./rick.h5\",monitor=\"val_acc\",verbose=1,save_best_only=True)\n",
    "cb=[es,mc]"
   ]
  },
  {
   "cell_type": "code",
   "execution_count": 31,
   "metadata": {},
   "outputs": [
    {
     "name": "stdout",
     "output_type": "stream",
     "text": [
      "Epoch 1/50\n",
      "1313/1313 [==============================] - 11s 9ms/step - loss: 0.0159 - accuracy: 0.9941 - val_loss: 0.0396 - val_accuracy: 0.9897\n",
      "Epoch 2/50\n",
      "1313/1313 [==============================] - 11s 9ms/step - loss: 0.0128 - accuracy: 0.9955 - val_loss: 0.0475 - val_accuracy: 0.9882\n",
      "Epoch 3/50\n",
      "1313/1313 [==============================] - 11s 9ms/step - loss: 0.0131 - accuracy: 0.9956 - val_loss: 0.0397 - val_accuracy: 0.9897\n",
      "Epoch 4/50\n",
      "1313/1313 [==============================] - 12s 9ms/step - loss: 0.0118 - accuracy: 0.9960 - val_loss: 0.0442 - val_accuracy: 0.9893\n",
      "Epoch 5/50\n",
      "1313/1313 [==============================] - 11s 9ms/step - loss: 0.0120 - accuracy: 0.9958 - val_loss: 0.0437 - val_accuracy: 0.9902\n",
      "Epoch 6/50\n",
      "1313/1313 [==============================] - 11s 8ms/step - loss: 0.0102 - accuracy: 0.9964 - val_loss: 0.0460 - val_accuracy: 0.9892\n",
      "Epoch 7/50\n",
      "1313/1313 [==============================] - 11s 8ms/step - loss: 0.0102 - accuracy: 0.9962 - val_loss: 0.0420 - val_accuracy: 0.9904\n",
      "Epoch 8/50\n",
      "1313/1313 [==============================] - 11s 8ms/step - loss: 0.0099 - accuracy: 0.9967 - val_loss: 0.0469 - val_accuracy: 0.9900\n",
      "Epoch 9/50\n",
      "1313/1313 [==============================] - 11s 8ms/step - loss: 0.0094 - accuracy: 0.9965 - val_loss: 0.0442 - val_accuracy: 0.9902\n",
      "Epoch 10/50\n",
      "1313/1313 [==============================] - 12s 9ms/step - loss: 0.0085 - accuracy: 0.9970 - val_loss: 0.0495 - val_accuracy: 0.9903\n",
      "Epoch 11/50\n",
      "1313/1313 [==============================] - 12s 9ms/step - loss: 0.0094 - accuracy: 0.9968 - val_loss: 0.0459 - val_accuracy: 0.9899\n",
      "Epoch 12/50\n",
      "1313/1313 [==============================] - 12s 9ms/step - loss: 0.0078 - accuracy: 0.9973 - val_loss: 0.0494 - val_accuracy: 0.9897\n",
      "Epoch 13/50\n",
      "1313/1313 [==============================] - 12s 9ms/step - loss: 0.0082 - accuracy: 0.9970 - val_loss: 0.0477 - val_accuracy: 0.9899\n",
      "Epoch 14/50\n",
      "1313/1313 [==============================] - 12s 9ms/step - loss: 0.0067 - accuracy: 0.9977 - val_loss: 0.0498 - val_accuracy: 0.9906\n",
      "Epoch 15/50\n",
      "1313/1313 [==============================] - 12s 9ms/step - loss: 0.0078 - accuracy: 0.9976 - val_loss: 0.0529 - val_accuracy: 0.9893\n",
      "Epoch 16/50\n",
      "1313/1313 [==============================] - 11s 9ms/step - loss: 0.0081 - accuracy: 0.9974 - val_loss: 0.0490 - val_accuracy: 0.9901\n",
      "Epoch 17/50\n",
      "1313/1313 [==============================] - 11s 9ms/step - loss: 0.0070 - accuracy: 0.9975 - val_loss: 0.0532 - val_accuracy: 0.9894\n",
      "Epoch 18/50\n",
      "1313/1313 [==============================] - 11s 9ms/step - loss: 0.0082 - accuracy: 0.9972 - val_loss: 0.0484 - val_accuracy: 0.9904\n",
      "Epoch 19/50\n",
      "1313/1313 [==============================] - 11s 8ms/step - loss: 0.0058 - accuracy: 0.9981 - val_loss: 0.0537 - val_accuracy: 0.9902\n",
      "Epoch 20/50\n",
      "1313/1313 [==============================] - 11s 8ms/step - loss: 0.0060 - accuracy: 0.9978 - val_loss: 0.0507 - val_accuracy: 0.9900\n",
      "Epoch 21/50\n",
      "1313/1313 [==============================] - 11s 8ms/step - loss: 0.0066 - accuracy: 0.9976 - val_loss: 0.0508 - val_accuracy: 0.9899\n",
      "Epoch 22/50\n",
      "1313/1313 [==============================] - 11s 8ms/step - loss: 0.0077 - accuracy: 0.9975 - val_loss: 0.0487 - val_accuracy: 0.9904\n",
      "Epoch 23/50\n",
      "1313/1313 [==============================] - 11s 8ms/step - loss: 0.0050 - accuracy: 0.9983 - val_loss: 0.0471 - val_accuracy: 0.9907\n",
      "Epoch 24/50\n",
      "1313/1313 [==============================] - 11s 8ms/step - loss: 0.0058 - accuracy: 0.9980 - val_loss: 0.0498 - val_accuracy: 0.9911\n",
      "Epoch 25/50\n",
      "1313/1313 [==============================] - 11s 8ms/step - loss: 0.0055 - accuracy: 0.9981 - val_loss: 0.0562 - val_accuracy: 0.9911\n",
      "Epoch 26/50\n",
      "1313/1313 [==============================] - 11s 8ms/step - loss: 0.0045 - accuracy: 0.9984 - val_loss: 0.0555 - val_accuracy: 0.9907\n",
      "Epoch 27/50\n",
      "1313/1313 [==============================] - 11s 8ms/step - loss: 0.0076 - accuracy: 0.9971 - val_loss: 0.0508 - val_accuracy: 0.9910\n",
      "Epoch 28/50\n",
      "1313/1313 [==============================] - 11s 8ms/step - loss: 0.0050 - accuracy: 0.9982 - val_loss: 0.0458 - val_accuracy: 0.9918\n",
      "Epoch 29/50\n",
      "1313/1313 [==============================] - 11s 8ms/step - loss: 0.0061 - accuracy: 0.9976 - val_loss: 0.0572 - val_accuracy: 0.9898\n",
      "Epoch 30/50\n",
      "1313/1313 [==============================] - 11s 8ms/step - loss: 0.0065 - accuracy: 0.9978 - val_loss: 0.0581 - val_accuracy: 0.9909\n",
      "Epoch 31/50\n",
      "1313/1313 [==============================] - 11s 9ms/step - loss: 0.0048 - accuracy: 0.9981 - val_loss: 0.0637 - val_accuracy: 0.9901\n",
      "Epoch 32/50\n",
      "1313/1313 [==============================] - 11s 8ms/step - loss: 0.0052 - accuracy: 0.9981 - val_loss: 0.0565 - val_accuracy: 0.9908\n",
      "Epoch 33/50\n",
      "1313/1313 [==============================] - 11s 9ms/step - loss: 0.0041 - accuracy: 0.9985 - val_loss: 0.0548 - val_accuracy: 0.9914\n",
      "Epoch 34/50\n",
      "1313/1313 [==============================] - 11s 9ms/step - loss: 0.0058 - accuracy: 0.9982 - val_loss: 0.0540 - val_accuracy: 0.9912\n",
      "Epoch 35/50\n",
      "1313/1313 [==============================] - 11s 9ms/step - loss: 0.0060 - accuracy: 0.9983 - val_loss: 0.0584 - val_accuracy: 0.9897\n",
      "Epoch 36/50\n",
      "1313/1313 [==============================] - 11s 9ms/step - loss: 0.0053 - accuracy: 0.9982 - val_loss: 0.0521 - val_accuracy: 0.9912\n",
      "Epoch 37/50\n",
      "1313/1313 [==============================] - 11s 9ms/step - loss: 0.0048 - accuracy: 0.9983 - val_loss: 0.0596 - val_accuracy: 0.9908\n",
      "Epoch 38/50\n",
      "1313/1313 [==============================] - 11s 9ms/step - loss: 0.0051 - accuracy: 0.9984 - val_loss: 0.0570 - val_accuracy: 0.9911\n",
      "Epoch 39/50\n",
      "1313/1313 [==============================] - 12s 9ms/step - loss: 0.0039 - accuracy: 0.9988 - val_loss: 0.0595 - val_accuracy: 0.9908\n",
      "Epoch 40/50\n",
      "1313/1313 [==============================] - 12s 9ms/step - loss: 0.0056 - accuracy: 0.9982 - val_loss: 0.0590 - val_accuracy: 0.9907\n",
      "Epoch 41/50\n",
      "1313/1313 [==============================] - 11s 9ms/step - loss: 0.0042 - accuracy: 0.9985 - val_loss: 0.0576 - val_accuracy: 0.9910\n",
      "Epoch 42/50\n",
      "1313/1313 [==============================] - 11s 8ms/step - loss: 0.0052 - accuracy: 0.9981 - val_loss: 0.0523 - val_accuracy: 0.9914\n",
      "Epoch 43/50\n",
      "1313/1313 [==============================] - 11s 8ms/step - loss: 0.0041 - accuracy: 0.9986 - val_loss: 0.0558 - val_accuracy: 0.9921\n",
      "Epoch 44/50\n",
      "1313/1313 [==============================] - 11s 8ms/step - loss: 0.0043 - accuracy: 0.9984 - val_loss: 0.0627 - val_accuracy: 0.9900\n",
      "Epoch 45/50\n",
      "1313/1313 [==============================] - 11s 8ms/step - loss: 0.0049 - accuracy: 0.9983 - val_loss: 0.0677 - val_accuracy: 0.9892\n",
      "Epoch 46/50\n",
      "1313/1313 [==============================] - 11s 9ms/step - loss: 0.0048 - accuracy: 0.9984 - val_loss: 0.0552 - val_accuracy: 0.9918\n",
      "Epoch 47/50\n",
      "1313/1313 [==============================] - 12s 9ms/step - loss: 0.0052 - accuracy: 0.9983 - val_loss: 0.0617 - val_accuracy: 0.9906\n",
      "Epoch 48/50\n",
      "1313/1313 [==============================] - 11s 9ms/step - loss: 0.0034 - accuracy: 0.9987 - val_loss: 0.0576 - val_accuracy: 0.9911\n",
      "Epoch 49/50\n",
      "1313/1313 [==============================] - 11s 9ms/step - loss: 0.0051 - accuracy: 0.9985 - val_loss: 0.0746 - val_accuracy: 0.9896\n",
      "Epoch 50/50\n",
      "1313/1313 [==============================] - 11s 9ms/step - loss: 0.0049 - accuracy: 0.9986 - val_loss: 0.0610 - val_accuracy: 0.9912\n"
     ]
    },
    {
     "data": {
      "text/plain": [
       "<keras.callbacks.History at 0x15dcaa05ed0>"
      ]
     },
     "execution_count": 31,
     "metadata": {},
     "output_type": "execute_result"
    }
   ],
   "source": [
    "model.fit(x_train,y_train,epochs=50,validation_split=.3)"
   ]
  },
  {
   "cell_type": "code",
   "execution_count": 32,
   "metadata": {},
   "outputs": [
    {
     "name": "stdout",
     "output_type": "stream",
     "text": [
      "313/313 [==============================] - 1s 3ms/step - loss: 0.0499 - accuracy: 0.9915\n",
      "0.9915000200271606\n"
     ]
    }
   ],
   "source": [
    "score=model.evaluate(x_test,y_test)\n",
    "print(score[1])"
   ]
  },
  {
   "cell_type": "code",
   "execution_count": 19,
   "metadata": {},
   "outputs": [],
   "source": [
    "path=\"D:\\\\All-Projects\\\\eight.png\"\n",
    "test_img=plt.imread(path)"
   ]
  },
  {
   "cell_type": "code",
   "execution_count": 33,
   "metadata": {},
   "outputs": [],
   "source": [
    "model.save('model_s.h5')"
   ]
  },
  {
   "cell_type": "code",
   "execution_count": 34,
   "metadata": {},
   "outputs": [],
   "source": [
    "m_test=keras.models.load_model(\"D:\\\\All-Projects\\\\model_s.h5\")\n"
   ]
  },
  {
   "cell_type": "code",
   "execution_count": 35,
   "metadata": {},
   "outputs": [
    {
     "name": "stdout",
     "output_type": "stream",
     "text": [
      "313/313 [==============================] - 1s 3ms/step - loss: 0.0499 - accuracy: 0.9915\n",
      "0.9915000200271606\n"
     ]
    }
   ],
   "source": [
    "score=m_test.evaluate(x_test,y_test)\n",
    "print(score[1])"
   ]
  }
 ],
 "metadata": {
  "kernelspec": {
   "display_name": "Python 3.10.5 64-bit",
   "language": "python",
   "name": "python3"
  },
  "language_info": {
   "codemirror_mode": {
    "name": "ipython",
    "version": 3
   },
   "file_extension": ".py",
   "mimetype": "text/x-python",
   "name": "python",
   "nbconvert_exporter": "python",
   "pygments_lexer": "ipython3",
   "version": "3.10.5"
  },
  "orig_nbformat": 4,
  "vscode": {
   "interpreter": {
    "hash": "719571bc65a74e1d688dce095ec38766212055f912c80ea1932d85d313f79f3e"
   }
  }
 },
 "nbformat": 4,
 "nbformat_minor": 2
}
